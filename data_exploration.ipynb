{
 "cells": [
  {
   "cell_type": "code",
   "execution_count": 1,
   "metadata": {},
   "outputs": [],
   "source": [
    "import pandas as pd\n",
    "import matplotlib.pyplot as plt\n",
    "import numpy as np\n",
    "import math\n",
    "import itertools\n",
    "from sklearn.cluster import KMeans\n",
    "from sklearn.metrics import pairwise_distances_argmin\n",
    "from datetime import datetime\n",
    "import time\n",
    "import matplotlib.pyplot as plt"
   ]
  },
  {
   "cell_type": "markdown",
   "metadata": {},
   "source": [
    "# Import raw data"
   ]
  },
  {
   "cell_type": "code",
   "execution_count": 2,
   "metadata": {},
   "outputs": [],
   "source": [
    "def import_data(fileName):\n",
    "    raw_data_df = pd.read_csv(fileName, header=0)\n",
    "    return raw_data_df\n"
   ]
  },
  {
   "cell_type": "code",
   "execution_count": 3,
   "metadata": {},
   "outputs": [
    {
     "data": {
      "text/html": [
       "<div>\n",
       "<style scoped>\n",
       "    .dataframe tbody tr th:only-of-type {\n",
       "        vertical-align: middle;\n",
       "    }\n",
       "\n",
       "    .dataframe tbody tr th {\n",
       "        vertical-align: top;\n",
       "    }\n",
       "\n",
       "    .dataframe thead th {\n",
       "        text-align: right;\n",
       "    }\n",
       "</style>\n",
       "<table border=\"1\" class=\"dataframe\">\n",
       "  <thead>\n",
       "    <tr style=\"text-align: right;\">\n",
       "      <th></th>\n",
       "      <th>id</th>\n",
       "      <th>datetime</th>\n",
       "      <th>usage</th>\n",
       "    </tr>\n",
       "  </thead>\n",
       "  <tbody>\n",
       "    <tr>\n",
       "      <th>0</th>\n",
       "      <td>MAC003828</td>\n",
       "      <td>2012-12-17 09:00:00</td>\n",
       "      <td>0.073</td>\n",
       "    </tr>\n",
       "    <tr>\n",
       "      <th>1</th>\n",
       "      <td>MAC003828</td>\n",
       "      <td>2012-12-17 09:30:00</td>\n",
       "      <td>0.054</td>\n",
       "    </tr>\n",
       "    <tr>\n",
       "      <th>2</th>\n",
       "      <td>MAC003828</td>\n",
       "      <td>2012-12-17 10:00:00</td>\n",
       "      <td>0.069</td>\n",
       "    </tr>\n",
       "    <tr>\n",
       "      <th>3</th>\n",
       "      <td>MAC003828</td>\n",
       "      <td>2012-12-17 10:30:00</td>\n",
       "      <td>0.070</td>\n",
       "    </tr>\n",
       "    <tr>\n",
       "      <th>4</th>\n",
       "      <td>MAC003828</td>\n",
       "      <td>2012-12-17 11:00:00</td>\n",
       "      <td>0.049</td>\n",
       "    </tr>\n",
       "  </tbody>\n",
       "</table>\n",
       "</div>"
      ],
      "text/plain": [
       "          id             datetime  usage\n",
       "0  MAC003828  2012-12-17 09:00:00  0.073\n",
       "1  MAC003828  2012-12-17 09:30:00  0.054\n",
       "2  MAC003828  2012-12-17 10:00:00  0.069\n",
       "3  MAC003828  2012-12-17 10:30:00  0.070\n",
       "4  MAC003828  2012-12-17 11:00:00  0.049"
      ]
     },
     "execution_count": 3,
     "metadata": {},
     "output_type": "execute_result"
    }
   ],
   "source": [
    "raw_data_df = import_data('usage_train.csv')\n",
    "raw_data_df.head()"
   ]
  },
  {
   "cell_type": "code",
   "execution_count": 4,
   "metadata": {},
   "outputs": [
    {
     "data": {
      "text/html": [
       "<div>\n",
       "<style scoped>\n",
       "    .dataframe tbody tr th:only-of-type {\n",
       "        vertical-align: middle;\n",
       "    }\n",
       "\n",
       "    .dataframe tbody tr th {\n",
       "        vertical-align: top;\n",
       "    }\n",
       "\n",
       "    .dataframe thead th {\n",
       "        text-align: right;\n",
       "    }\n",
       "</style>\n",
       "<table border=\"1\" class=\"dataframe\">\n",
       "  <thead>\n",
       "    <tr style=\"text-align: right;\">\n",
       "      <th></th>\n",
       "      <th>id</th>\n",
       "      <th>datetime</th>\n",
       "    </tr>\n",
       "  </thead>\n",
       "  <tbody>\n",
       "    <tr>\n",
       "      <th>0</th>\n",
       "      <td>MAC003828</td>\n",
       "      <td>2013-12-10 09:00:00</td>\n",
       "    </tr>\n",
       "    <tr>\n",
       "      <th>1</th>\n",
       "      <td>MAC003828</td>\n",
       "      <td>2013-12-10 09:30:00</td>\n",
       "    </tr>\n",
       "    <tr>\n",
       "      <th>2</th>\n",
       "      <td>MAC003828</td>\n",
       "      <td>2013-12-10 10:00:00</td>\n",
       "    </tr>\n",
       "    <tr>\n",
       "      <th>3</th>\n",
       "      <td>MAC003828</td>\n",
       "      <td>2013-12-10 10:30:00</td>\n",
       "    </tr>\n",
       "    <tr>\n",
       "      <th>4</th>\n",
       "      <td>MAC003828</td>\n",
       "      <td>2013-12-10 11:00:00</td>\n",
       "    </tr>\n",
       "  </tbody>\n",
       "</table>\n",
       "</div>"
      ],
      "text/plain": [
       "          id             datetime\n",
       "0  MAC003828  2013-12-10 09:00:00\n",
       "1  MAC003828  2013-12-10 09:30:00\n",
       "2  MAC003828  2013-12-10 10:00:00\n",
       "3  MAC003828  2013-12-10 10:30:00\n",
       "4  MAC003828  2013-12-10 11:00:00"
      ]
     },
     "execution_count": 4,
     "metadata": {},
     "output_type": "execute_result"
    }
   ],
   "source": [
    "raw_test_data_df = import_data('usage_test.csv')\n",
    "raw_test_data_df.head()"
   ]
  },
  {
   "cell_type": "code",
   "execution_count": 5,
   "metadata": {},
   "outputs": [
    {
     "name": "stderr",
     "output_type": "stream",
     "text": [
      "/home/anil/anaconda3/lib/python3.6/site-packages/ipykernel_launcher.py:3: SettingWithCopyWarning: \n",
      "A value is trying to be set on a copy of a slice from a DataFrame.\n",
      "Try using .loc[row_indexer,col_indexer] = value instead\n",
      "\n",
      "See the caveats in the documentation: http://pandas.pydata.org/pandas-docs/stable/indexing.html#indexing-view-versus-copy\n",
      "  This is separate from the ipykernel package so we can avoid doing imports until\n",
      "/home/anil/anaconda3/lib/python3.6/site-packages/ipykernel_launcher.py:11: SettingWithCopyWarning: \n",
      "A value is trying to be set on a copy of a slice from a DataFrame.\n",
      "Try using .loc[row_indexer,col_indexer] = value instead\n",
      "\n",
      "See the caveats in the documentation: http://pandas.pydata.org/pandas-docs/stable/indexing.html#indexing-view-versus-copy\n",
      "  # This is added back by InteractiveShellApp.init_path()\n"
     ]
    }
   ],
   "source": [
    "meter_id = 'MAC005415'\n",
    "result=raw_data_df.loc[(raw_data_df.id == meter_id)]\n",
    "result['date']=pd.to_datetime(result['datetime'])\n",
    "data=result.loc[:, ['usage']]\n",
    "\n",
    "data = data.set_index([result.date])\n",
    "\n",
    "data['usage'] = pd.to_numeric(data['usage'],downcast='float',errors='coerce')\n",
    "\n",
    "result_test=raw_test_data_df.loc[(raw_test_data_df.id == meter_id)]\n",
    "result_test['date']=pd.to_datetime(result_test['datetime'])\n"
   ]
  },
  {
   "cell_type": "code",
   "execution_count": 6,
   "metadata": {},
   "outputs": [
    {
     "data": {
      "text/html": [
       "<div>\n",
       "<style scoped>\n",
       "    .dataframe tbody tr th:only-of-type {\n",
       "        vertical-align: middle;\n",
       "    }\n",
       "\n",
       "    .dataframe tbody tr th {\n",
       "        vertical-align: top;\n",
       "    }\n",
       "\n",
       "    .dataframe thead th {\n",
       "        text-align: right;\n",
       "    }\n",
       "</style>\n",
       "<table border=\"1\" class=\"dataframe\">\n",
       "  <thead>\n",
       "    <tr style=\"text-align: right;\">\n",
       "      <th></th>\n",
       "      <th>id</th>\n",
       "      <th>datetime</th>\n",
       "      <th>date</th>\n",
       "    </tr>\n",
       "  </thead>\n",
       "  <tbody>\n",
       "    <tr>\n",
       "      <th>672</th>\n",
       "      <td>MAC005415</td>\n",
       "      <td>2013-12-10 09:00:00</td>\n",
       "      <td>2013-12-10 09:00:00</td>\n",
       "    </tr>\n",
       "    <tr>\n",
       "      <th>673</th>\n",
       "      <td>MAC005415</td>\n",
       "      <td>2013-12-10 09:30:00</td>\n",
       "      <td>2013-12-10 09:30:00</td>\n",
       "    </tr>\n",
       "    <tr>\n",
       "      <th>674</th>\n",
       "      <td>MAC005415</td>\n",
       "      <td>2013-12-10 10:00:00</td>\n",
       "      <td>2013-12-10 10:00:00</td>\n",
       "    </tr>\n",
       "    <tr>\n",
       "      <th>675</th>\n",
       "      <td>MAC005415</td>\n",
       "      <td>2013-12-10 10:30:00</td>\n",
       "      <td>2013-12-10 10:30:00</td>\n",
       "    </tr>\n",
       "    <tr>\n",
       "      <th>676</th>\n",
       "      <td>MAC005415</td>\n",
       "      <td>2013-12-10 11:00:00</td>\n",
       "      <td>2013-12-10 11:00:00</td>\n",
       "    </tr>\n",
       "  </tbody>\n",
       "</table>\n",
       "</div>"
      ],
      "text/plain": [
       "            id             datetime                date\n",
       "672  MAC005415  2013-12-10 09:00:00 2013-12-10 09:00:00\n",
       "673  MAC005415  2013-12-10 09:30:00 2013-12-10 09:30:00\n",
       "674  MAC005415  2013-12-10 10:00:00 2013-12-10 10:00:00\n",
       "675  MAC005415  2013-12-10 10:30:00 2013-12-10 10:30:00\n",
       "676  MAC005415  2013-12-10 11:00:00 2013-12-10 11:00:00"
      ]
     },
     "execution_count": 6,
     "metadata": {},
     "output_type": "execute_result"
    }
   ],
   "source": [
    "result_test.head()\n"
   ]
  },
  {
   "cell_type": "code",
   "execution_count": 7,
   "metadata": {},
   "outputs": [
    {
     "data": {
      "text/html": [
       "<div>\n",
       "<style scoped>\n",
       "    .dataframe tbody tr th:only-of-type {\n",
       "        vertical-align: middle;\n",
       "    }\n",
       "\n",
       "    .dataframe tbody tr th {\n",
       "        vertical-align: top;\n",
       "    }\n",
       "\n",
       "    .dataframe thead th {\n",
       "        text-align: right;\n",
       "    }\n",
       "</style>\n",
       "<table border=\"1\" class=\"dataframe\">\n",
       "  <thead>\n",
       "    <tr style=\"text-align: right;\">\n",
       "      <th></th>\n",
       "      <th>usage</th>\n",
       "    </tr>\n",
       "    <tr>\n",
       "      <th>date</th>\n",
       "      <th></th>\n",
       "    </tr>\n",
       "  </thead>\n",
       "  <tbody>\n",
       "    <tr>\n",
       "      <th>2012-12-17 09:00:00</th>\n",
       "      <td>0.018</td>\n",
       "    </tr>\n",
       "    <tr>\n",
       "      <th>2012-12-17 09:30:00</th>\n",
       "      <td>0.119</td>\n",
       "    </tr>\n",
       "    <tr>\n",
       "      <th>2012-12-17 10:00:00</th>\n",
       "      <td>0.110</td>\n",
       "    </tr>\n",
       "    <tr>\n",
       "      <th>2012-12-17 10:30:00</th>\n",
       "      <td>0.054</td>\n",
       "    </tr>\n",
       "    <tr>\n",
       "      <th>2012-12-17 11:00:00</th>\n",
       "      <td>0.079</td>\n",
       "    </tr>\n",
       "  </tbody>\n",
       "</table>\n",
       "</div>"
      ],
      "text/plain": [
       "                     usage\n",
       "date                      \n",
       "2012-12-17 09:00:00  0.018\n",
       "2012-12-17 09:30:00  0.119\n",
       "2012-12-17 10:00:00  0.110\n",
       "2012-12-17 10:30:00  0.054\n",
       "2012-12-17 11:00:00  0.079"
      ]
     },
     "execution_count": 7,
     "metadata": {},
     "output_type": "execute_result"
    }
   ],
   "source": [
    "data.head()"
   ]
  },
  {
   "cell_type": "code",
   "execution_count": 8,
   "metadata": {},
   "outputs": [
    {
     "data": {
      "image/png": "[encoded data removed]",
      "text/plain": [
       "<matplotlib.figure.Figure at 0x7f6e49a61ef0>"
      ]
     },
     "metadata": {},
     "output_type": "display_data"
    },
    {
     "data": {
      "text/html": [
       "<div>\n",
       "<style scoped>\n",
       "    .dataframe tbody tr th:only-of-type {\n",
       "        vertical-align: middle;\n",
       "    }\n",
       "\n",
       "    .dataframe tbody tr th {\n",
       "        vertical-align: top;\n",
       "    }\n",
       "\n",
       "    .dataframe thead th {\n",
       "        text-align: right;\n",
       "    }\n",
       "</style>\n",
       "<table border=\"1\" class=\"dataframe\">\n",
       "  <thead>\n",
       "    <tr style=\"text-align: right;\">\n",
       "      <th></th>\n",
       "      <th>usage</th>\n",
       "    </tr>\n",
       "  </thead>\n",
       "  <tbody>\n",
       "    <tr>\n",
       "      <th>count</th>\n",
       "      <td>17184.000000</td>\n",
       "    </tr>\n",
       "    <tr>\n",
       "      <th>mean</th>\n",
       "      <td>0.070247</td>\n",
       "    </tr>\n",
       "    <tr>\n",
       "      <th>std</th>\n",
       "      <td>0.044182</td>\n",
       "    </tr>\n",
       "    <tr>\n",
       "      <th>min</th>\n",
       "      <td>0.009000</td>\n",
       "    </tr>\n",
       "    <tr>\n",
       "      <th>25%</th>\n",
       "      <td>0.041000</td>\n",
       "    </tr>\n",
       "    <tr>\n",
       "      <th>50%</th>\n",
       "      <td>0.061000</td>\n",
       "    </tr>\n",
       "    <tr>\n",
       "      <th>75%</th>\n",
       "      <td>0.090000</td>\n",
       "    </tr>\n",
       "    <tr>\n",
       "      <th>max</th>\n",
       "      <td>0.561000</td>\n",
       "    </tr>\n",
       "  </tbody>\n",
       "</table>\n",
       "</div>"
      ],
      "text/plain": [
       "              usage\n",
       "count  17184.000000\n",
       "mean       0.070247\n",
       "std        0.044182\n",
       "min        0.009000\n",
       "25%        0.041000\n",
       "50%        0.061000\n",
       "75%        0.090000\n",
       "max        0.561000"
      ]
     },
     "execution_count": 8,
     "metadata": {},
     "output_type": "execute_result"
    }
   ],
   "source": [
    "data.plot()\n",
    "plt.show()\n",
    "data.dropna().describe()"
   ]
  },
  {
   "cell_type": "code",
   "execution_count": 9,
   "metadata": {},
   "outputs": [],
   "source": [
    "weekly = data.resample('w').mean()"
   ]
  },
  {
   "cell_type": "code",
   "execution_count": 10,
   "metadata": {},
   "outputs": [
    {
     "data": {
      "text/plain": [
       "<matplotlib.axes._subplots.AxesSubplot at 0x7f6e40e47518>"
      ]
     },
     "execution_count": 10,
     "metadata": {},
     "output_type": "execute_result"
    },
    {
     "data": {
      "image/png": "[encoded data removed]",
      "text/plain": [
       "<matplotlib.figure.Figure at 0x7f6e410afc88>"
      ]
     },
     "metadata": {},
     "output_type": "display_data"
    }
   ],
   "source": [
    "weekly.plot(style=[':', '--', '-'])"
   ]
  },
  {
   "cell_type": "code",
   "execution_count": 11,
   "metadata": {},
   "outputs": [
    {
     "data": {
      "text/plain": [
       "<matplotlib.axes._subplots.AxesSubplot at 0x7f6e40dc2a58>"
      ]
     },
     "execution_count": 11,
     "metadata": {},
     "output_type": "execute_result"
    },
    {
     "data": {
      "image/png": "[encoded data removed]",
      "text/plain": [
       "<matplotlib.figure.Figure at 0x7f6e795125c0>"
      ]
     },
     "metadata": {},
     "output_type": "display_data"
    }
   ],
   "source": [
    "daily = data.resample('D').sum()\n",
    "daily.rolling(30, center=True).sum().plot(style=[':', '--', '-'])"
   ]
  },
  {
   "cell_type": "code",
   "execution_count": 12,
   "metadata": {},
   "outputs": [
    {
     "data": {
      "text/html": [
       "<div>\n",
       "<style scoped>\n",
       "    .dataframe tbody tr th:only-of-type {\n",
       "        vertical-align: middle;\n",
       "    }\n",
       "\n",
       "    .dataframe tbody tr th {\n",
       "        vertical-align: top;\n",
       "    }\n",
       "\n",
       "    .dataframe thead th {\n",
       "        text-align: right;\n",
       "    }\n",
       "</style>\n",
       "<table border=\"1\" class=\"dataframe\">\n",
       "  <thead>\n",
       "    <tr style=\"text-align: right;\">\n",
       "      <th></th>\n",
       "      <th>usage</th>\n",
       "    </tr>\n",
       "    <tr>\n",
       "      <th>date</th>\n",
       "      <th></th>\n",
       "    </tr>\n",
       "  </thead>\n",
       "  <tbody>\n",
       "    <tr>\n",
       "      <th>2012-12-17 09:00:00</th>\n",
       "      <td>0.137</td>\n",
       "    </tr>\n",
       "    <tr>\n",
       "      <th>2012-12-17 10:00:00</th>\n",
       "      <td>0.164</td>\n",
       "    </tr>\n",
       "    <tr>\n",
       "      <th>2012-12-17 11:00:00</th>\n",
       "      <td>0.104</td>\n",
       "    </tr>\n",
       "    <tr>\n",
       "      <th>2012-12-17 12:00:00</th>\n",
       "      <td>0.115</td>\n",
       "    </tr>\n",
       "    <tr>\n",
       "      <th>2012-12-17 13:00:00</th>\n",
       "      <td>0.143</td>\n",
       "    </tr>\n",
       "  </tbody>\n",
       "</table>\n",
       "</div>"
      ],
      "text/plain": [
       "                     usage\n",
       "date                      \n",
       "2012-12-17 09:00:00  0.137\n",
       "2012-12-17 10:00:00  0.164\n",
       "2012-12-17 11:00:00  0.104\n",
       "2012-12-17 12:00:00  0.115\n",
       "2012-12-17 13:00:00  0.143"
      ]
     },
     "execution_count": 12,
     "metadata": {},
     "output_type": "execute_result"
    }
   ],
   "source": [
    "day= data.resample(rule='H').sum()\n",
    "day.head()"
   ]
  },
  {
   "cell_type": "code",
   "execution_count": 13,
   "metadata": {},
   "outputs": [
    {
     "data": {
      "text/html": [
       "<div>\n",
       "<style scoped>\n",
       "    .dataframe tbody tr th:only-of-type {\n",
       "        vertical-align: middle;\n",
       "    }\n",
       "\n",
       "    .dataframe tbody tr th {\n",
       "        vertical-align: top;\n",
       "    }\n",
       "\n",
       "    .dataframe thead th {\n",
       "        text-align: right;\n",
       "    }\n",
       "</style>\n",
       "<table border=\"1\" class=\"dataframe\">\n",
       "  <thead>\n",
       "    <tr style=\"text-align: right;\">\n",
       "      <th></th>\n",
       "      <th>usage</th>\n",
       "    </tr>\n",
       "    <tr>\n",
       "      <th>date</th>\n",
       "      <th></th>\n",
       "    </tr>\n",
       "  </thead>\n",
       "  <tbody>\n",
       "    <tr>\n",
       "      <th>2012-12-17 09:00:00</th>\n",
       "      <td>0.018</td>\n",
       "    </tr>\n",
       "    <tr>\n",
       "      <th>2012-12-17 09:30:00</th>\n",
       "      <td>0.119</td>\n",
       "    </tr>\n",
       "    <tr>\n",
       "      <th>2012-12-17 10:00:00</th>\n",
       "      <td>0.110</td>\n",
       "    </tr>\n",
       "    <tr>\n",
       "      <th>2012-12-17 10:30:00</th>\n",
       "      <td>0.054</td>\n",
       "    </tr>\n",
       "    <tr>\n",
       "      <th>2012-12-17 11:00:00</th>\n",
       "      <td>0.079</td>\n",
       "    </tr>\n",
       "  </tbody>\n",
       "</table>\n",
       "</div>"
      ],
      "text/plain": [
       "                     usage\n",
       "date                      \n",
       "2012-12-17 09:00:00  0.018\n",
       "2012-12-17 09:30:00  0.119\n",
       "2012-12-17 10:00:00  0.110\n",
       "2012-12-17 10:30:00  0.054\n",
       "2012-12-17 11:00:00  0.079"
      ]
     },
     "execution_count": 13,
     "metadata": {},
     "output_type": "execute_result"
    }
   ],
   "source": [
    "half_hours= data.resample(rule=('T',30)).sum()\n",
    "half_hours.head()"
   ]
  },
  {
   "cell_type": "code",
   "execution_count": 14,
   "metadata": {},
   "outputs": [
    {
     "data": {
      "image/png": "[encoded data removed]",
      "text/plain": [
       "<matplotlib.figure.Figure at 0x7f6e40f5dcc0>"
      ]
     },
     "metadata": {},
     "output_type": "display_data"
    }
   ],
   "source": [
    "by_time = data.groupby(data.index.time).mean()\n",
    "hourly_ticks = 4 * 60 * 60 * np.arange(6)\n",
    "by_time.plot(xticks=hourly_ticks, style=[':', '--', '-']);"
   ]
  },
  {
   "cell_type": "code",
   "execution_count": null,
   "metadata": {},
   "outputs": [],
   "source": []
  },
  {
   "cell_type": "code",
   "execution_count": 15,
   "metadata": {},
   "outputs": [
    {
     "data": {
      "image/png": "[encoded data removed]",
      "text/plain": [
       "<matplotlib.figure.Figure at 0x7f6e40cffe80>"
      ]
     },
     "metadata": {},
     "output_type": "display_data"
    }
   ],
   "source": [
    "data.rolling(360).mean().plot(figsize=(20,10), linewidth=5, fontsize=20)\n",
    "plt.xlabel('Year', fontsize=20);"
   ]
  },
  {
   "cell_type": "markdown",
   "metadata": {},
   "source": [
    "# LSTM prediction"
   ]
  },
  {
   "cell_type": "code",
   "execution_count": 16,
   "metadata": {},
   "outputs": [
    {
     "data": {
      "text/html": [
       "<div>\n",
       "<style scoped>\n",
       "    .dataframe tbody tr th:only-of-type {\n",
       "        vertical-align: middle;\n",
       "    }\n",
       "\n",
       "    .dataframe tbody tr th {\n",
       "        vertical-align: top;\n",
       "    }\n",
       "\n",
       "    .dataframe thead th {\n",
       "        text-align: right;\n",
       "    }\n",
       "</style>\n",
       "<table border=\"1\" class=\"dataframe\">\n",
       "  <thead>\n",
       "    <tr style=\"text-align: right;\">\n",
       "      <th></th>\n",
       "      <th>usage</th>\n",
       "    </tr>\n",
       "    <tr>\n",
       "      <th>date</th>\n",
       "      <th></th>\n",
       "    </tr>\n",
       "  </thead>\n",
       "  <tbody>\n",
       "    <tr>\n",
       "      <th>2012-12-17</th>\n",
       "      <td>2.616000</td>\n",
       "    </tr>\n",
       "    <tr>\n",
       "      <th>2012-12-18</th>\n",
       "      <td>3.600577</td>\n",
       "    </tr>\n",
       "    <tr>\n",
       "      <th>2012-12-19</th>\n",
       "      <td>4.041000</td>\n",
       "    </tr>\n",
       "    <tr>\n",
       "      <th>2012-12-20</th>\n",
       "      <td>3.246000</td>\n",
       "    </tr>\n",
       "    <tr>\n",
       "      <th>2012-12-21</th>\n",
       "      <td>3.333000</td>\n",
       "    </tr>\n",
       "  </tbody>\n",
       "</table>\n",
       "</div>"
      ],
      "text/plain": [
       "               usage\n",
       "date                \n",
       "2012-12-17  2.616000\n",
       "2012-12-18  3.600577\n",
       "2012-12-19  4.041000\n",
       "2012-12-20  3.246000\n",
       "2012-12-21  3.333000"
      ]
     },
     "execution_count": 16,
     "metadata": {},
     "output_type": "execute_result"
    }
   ],
   "source": [
    "mydata=daily.loc[:, ['usage']]\n",
    "mydata = mydata.set_index(daily.index)\n",
    "mydata.head()"
   ]
  },
  {
   "cell_type": "code",
   "execution_count": 17,
   "metadata": {},
   "outputs": [],
   "source": [
    "#Use MinMaxScaler to normalize 'KWH/hh (per half hour) ' to range from 0 to 1\n",
    "from sklearn.preprocessing import MinMaxScaler\n",
    "values = mydata['usage'].values.reshape(-1,1)\n",
    "values = values.astype('float32')\n",
    "scaler = MinMaxScaler(feature_range=(0, 1))\n",
    "scaled = scaler.fit_transform(values)"
   ]
  },
  {
   "cell_type": "code",
   "execution_count": 18,
   "metadata": {},
   "outputs": [
    {
     "name": "stdout",
     "output_type": "stream",
     "text": [
      "287 72\n"
     ]
    }
   ],
   "source": [
    "train_size = int(len(scaled) * 0.8)\n",
    "test_size = len(scaled) - train_size\n",
    "train, test = scaled[0:train_size,:], scaled[train_size:len(scaled),:]\n",
    "print(len(train), len(test))"
   ]
  },
  {
   "cell_type": "code",
   "execution_count": 19,
   "metadata": {},
   "outputs": [],
   "source": [
    "def create_dataset(dataset, look_back=1):\n",
    "    dataX, dataY = [], []\n",
    "    for i in range(len(dataset) - look_back):\n",
    "        a = dataset[i:(i + look_back), 0]\n",
    "        dataX.append(a)\n",
    "        dataY.append(dataset[i + look_back, 0])\n",
    "    print(len(dataY))\n",
    "    return np.array(dataX), np.array(dataY)\n"
   ]
  },
  {
   "cell_type": "code",
   "execution_count": 20,
   "metadata": {},
   "outputs": [
    {
     "name": "stdout",
     "output_type": "stream",
     "text": [
      "283\n",
      "68\n"
     ]
    }
   ],
   "source": [
    "look_back = 4\n",
    "trainX, trainY = create_dataset(train, look_back)\n",
    "testX, testY = create_dataset(test, look_back)\n"
   ]
  },
  {
   "cell_type": "code",
   "execution_count": 21,
   "metadata": {},
   "outputs": [
    {
     "data": {
      "text/plain": [
       "(287, 1)"
      ]
     },
     "execution_count": 21,
     "metadata": {},
     "output_type": "execute_result"
    }
   ],
   "source": [
    "train.shape"
   ]
  },
  {
   "cell_type": "code",
   "execution_count": 22,
   "metadata": {},
   "outputs": [],
   "source": [
    "trainX = np.reshape(trainX, (trainX.shape[0], 1, trainX.shape[1]))\n",
    "testX = np.reshape(testX, (testX.shape[0], 1, testX.shape[1]))"
   ]
  },
  {
   "cell_type": "code",
   "execution_count": 23,
   "metadata": {},
   "outputs": [
    {
     "name": "stderr",
     "output_type": "stream",
     "text": [
      "Using TensorFlow backend.\n"
     ]
    }
   ],
   "source": [
    "from keras.models import Sequential\n",
    "from keras.layers import Dense\n",
    "from keras.layers import LSTM\n",
    "model = Sequential()\n",
    "model.add(LSTM(100, input_shape=(trainX.shape[1], trainX.shape[2])))\n",
    "model.add(Dense(1))\n",
    "model.compile(loss='mean_squared_error', optimizer='adam')\n",
    "history = model.fit(trainX, trainY, epochs=500, batch_size=100, validation_data=(testX, testY), verbose=0, shuffle=False)"
   ]
  },
  {
   "cell_type": "code",
   "execution_count": 24,
   "metadata": {},
   "outputs": [
    {
     "data": {
      "text/plain": [
       "<matplotlib.legend.Legend at 0x7f6e28476940>"
      ]
     },
     "execution_count": 24,
     "metadata": {},
     "output_type": "execute_result"
    },
    {
     "data": {
      "image/png": "[encoded data removed]",
      "text/plain": [
       "<matplotlib.figure.Figure at 0x7f6e284532b0>"
      ]
     },
     "metadata": {},
     "output_type": "display_data"
    }
   ],
   "source": [
    "plt.plot(history.history['loss'], label='train')\n",
    "plt.plot(history.history['val_loss'], label='test')\n",
    "plt.legend()"
   ]
  },
  {
   "cell_type": "code",
   "execution_count": 25,
   "metadata": {},
   "outputs": [
    {
     "data": {
      "text/plain": [
       "500"
      ]
     },
     "execution_count": 25,
     "metadata": {},
     "output_type": "execute_result"
    }
   ],
   "source": [
    "len(history.history['val_loss'])  "
   ]
  },
  {
   "cell_type": "code",
   "execution_count": 26,
   "metadata": {},
   "outputs": [
    {
     "data": {
      "text/plain": [
       "[-0.13251915289740682,\n",
       " -0.11268652843923535,\n",
       " -0.094707393261864,\n",
       " -0.07873365404117234,\n",
       " -0.0645356388769175,\n",
       " -0.05203039654573366,\n",
       " -0.04156694663918903,\n",
       " -0.03290082463606297,\n",
       " -0.026053815665440933,\n",
       " -0.020908168395290104,\n",
       " -0.017236658974218284,\n",
       " -0.014820197198948042,\n",
       " -0.013305906469640798,\n",
       " -0.012374479244644144,\n",
       " -0.011779111267031291,\n",
       " -0.01137585570055057,\n",
       " -0.011120128412418356,\n",
       " -0.011026519686378564,\n",
       " -0.011116915994550863,\n",
       " -0.011387518482026068,\n",
       " -0.011797870440217715,\n",
       " -0.012286981689503462,\n",
       " -0.012782115035101297,\n",
       " -0.013224233047174482,\n",
       " -0.013570336766488349,\n",
       " -0.013803985473360906,\n",
       " -0.013923304932119568,\n",
       " -0.013945263435294055,\n",
       " -0.013893551558466766,\n",
       " -0.013793743426118428,\n",
       " -0.013670040955997397,\n",
       " -0.013541063909211554,\n",
       " -0.013422101841377286,\n",
       " -0.013321797718876453,\n",
       " -0.013245413685382044,\n",
       " -0.013193926148695787,\n",
       " -0.013166253629400536,\n",
       " -0.013158796986979646,\n",
       " -0.01316703267250697,\n",
       " -0.013185436123251494,\n",
       " -0.013208884067912405,\n",
       " -0.01323267458789972,\n",
       " -0.01325324544676517,\n",
       " -0.013268269213449618,\n",
       " -0.013276751712622785,\n",
       " -0.013278733478207471,\n",
       " -0.013275109804087309,\n",
       " -0.013267349511016383,\n",
       " -0.013257034224961545,\n",
       " -0.01324580626581983,\n",
       " -0.013234814875775639,\n",
       " -0.013225106078170424,\n",
       " -0.01321711695289022,\n",
       " -0.013211039740710714,\n",
       " -0.013206705635301637,\n",
       " -0.013203843440794692,\n",
       " -0.013201948883860988,\n",
       " -0.01320054592044741,\n",
       " -0.013199260369496084,\n",
       " -0.013197775824857684,\n",
       " -0.013195904103426966,\n",
       " -0.013193570330818003,\n",
       " -0.01319074765992986,\n",
       " -0.013187632626152922,\n",
       " -0.01318430374030932,\n",
       " -0.013180953934262161,\n",
       " -0.013177642335476808,\n",
       " -0.013174582091768933,\n",
       " -0.013171743285634913,\n",
       " -0.013169151595908845,\n",
       " -0.01316676456678672,\n",
       " -0.013164553192342127,\n",
       " -0.013162497802910662,\n",
       " -0.013160549933518622,\n",
       " -0.013158691902200662,\n",
       " -0.0131568494269315,\n",
       " -0.013155055640416727,\n",
       " -0.013153259069806906,\n",
       " -0.013151524647701755,\n",
       " -0.013149930815814661,\n",
       " -0.013148435848919747,\n",
       " -0.013147025293417196,\n",
       " -0.0131456888553953,\n",
       " -0.0131444386552111,\n",
       " -0.013143273636488106,\n",
       " -0.013142226892441196,\n",
       " -0.01314128564453483,\n",
       " -0.013140412205468218,\n",
       " -0.013139663250991819,\n",
       " -0.013138999626066785,\n",
       " -0.013138439150875954,\n",
       " -0.013137985340092502,\n",
       " -0.013137628097258271,\n",
       " -0.01313735144179933,\n",
       " -0.013137181164440122,\n",
       " -0.01313711026216143,\n",
       " -0.013137126726496556,\n",
       " -0.013137201972753336,\n",
       " -0.01313735403173172,\n",
       " -0.013137641415500178,\n",
       " -0.013138027377953167,\n",
       " -0.013138491568211532,\n",
       " -0.013139102631001718,\n",
       " -0.013139806088889445,\n",
       " -0.013140593698189032,\n",
       " -0.013141464241270252,\n",
       " -0.013142470754156475,\n",
       " -0.01314357503945857,\n",
       " -0.013144771186733625,\n",
       " -0.013146035926080846,\n",
       " -0.013147416096773038,\n",
       " -0.013148906532108994,\n",
       " -0.013150524058422014,\n",
       " -0.01315222122762418,\n",
       " -0.013154008843715537,\n",
       " -0.013155836342132975,\n",
       " -0.01315781374399422,\n",
       " -0.013159896418215319,\n",
       " -0.013162081857136198,\n",
       " -0.01316438557073316,\n",
       " -0.013166776427163253,\n",
       " -0.013169258066153568,\n",
       " -0.013171817722332141,\n",
       " -0.013174500148545938,\n",
       " -0.013177279205235913,\n",
       " -0.013180175170881589,\n",
       " -0.013183172907377512,\n",
       " -0.013186248387917612,\n",
       " -0.013189416948060896,\n",
       " -0.013192705981196448,\n",
       " -0.013196056527694417,\n",
       " -0.013199531720036331,\n",
       " -0.01320310710689099,\n",
       " -0.013206776554034792,\n",
       " -0.013210526104792689,\n",
       " -0.01321434633404859,\n",
       " -0.013218286216864527,\n",
       " -0.013222348919079077,\n",
       " -0.013226520470853619,\n",
       " -0.013230760838481015,\n",
       " -0.013235103276429875,\n",
       " -0.013239555235280797,\n",
       " -0.013244081857900526,\n",
       " -0.013248698295558088,\n",
       " -0.013253394339904979,\n",
       " -0.013258189884386299,\n",
       " -0.013263082233761098,\n",
       " -0.013268048279382315,\n",
       " -0.013273055438123406,\n",
       " -0.013278168629420519,\n",
       " -0.01328336553773168,\n",
       " -0.013288669446121256,\n",
       " -0.013294073127789338,\n",
       " -0.013299555596714517,\n",
       " -0.013305083996626176,\n",
       " -0.013310683535760788,\n",
       " -0.013316390088137384,\n",
       " -0.013322168586005592,\n",
       " -0.013328015639746147,\n",
       " -0.013333937768617072,\n",
       " -0.013339910982012117,\n",
       " -0.013345922639613227,\n",
       " -0.01335201754363076,\n",
       " -0.013358211464021526,\n",
       " -0.013364434985990237,\n",
       " -0.01337074526904855,\n",
       " -0.013377143777643622,\n",
       " -0.01338355387018026,\n",
       " -0.013390029043406774,\n",
       " -0.013396542101387632,\n",
       " -0.013403096075034815,\n",
       " -0.013409685040741843,\n",
       " -0.013416350908024573,\n",
       " -0.013423035711102689,\n",
       " -0.0134297606104149,\n",
       " -0.013436539352019137,\n",
       " -0.013443314852094271,\n",
       " -0.013450149956814181,\n",
       " -0.01345705138289044,\n",
       " -0.01346398039980933,\n",
       " -0.013470927608781906,\n",
       " -0.013477878269900703,\n",
       " -0.013484806480550934,\n",
       " -0.013491768554484886,\n",
       " -0.013498770811861585,\n",
       " -0.01350577109470279,\n",
       " -0.013512781684619272,\n",
       " -0.013519844751107398,\n",
       " -0.013526893711184866,\n",
       " -0.013533975106298713,\n",
       " -0.013541050727541687,\n",
       " -0.013548110529464462,\n",
       " -0.013555159119316524,\n",
       " -0.013562180962439876,\n",
       " -0.013569207562548322,\n",
       " -0.013576191310300212,\n",
       " -0.01358319121468878,\n",
       " -0.013590200159159018,\n",
       " -0.01359720914147452,\n",
       " -0.013604207643942887,\n",
       " -0.013611150727781728,\n",
       " -0.01361805949090279,\n",
       " -0.013624954173940336,\n",
       " -0.013631826605608311,\n",
       " -0.01363868503123785,\n",
       " -0.013645516933919369,\n",
       " -0.013652297441087426,\n",
       " -0.013659063247838733,\n",
       " -0.013665785109657175,\n",
       " -0.013672484943886738,\n",
       " -0.01367914368967812,\n",
       " -0.01368575693888083,\n",
       " -0.013692332936826,\n",
       " -0.013698872912661978,\n",
       " -0.013705329183002032,\n",
       " -0.013711794259770389,\n",
       " -0.013718195795986552,\n",
       " -0.01372459076522675,\n",
       " -0.013730955696845749,\n",
       " -0.013737256729205274,\n",
       " -0.013743494545165515,\n",
       " -0.013749681289765206,\n",
       " -0.013755808567937608,\n",
       " -0.013761876690672059,\n",
       " -0.013767923146170357,\n",
       " -0.013773926811839055,\n",
       " -0.01377988698013627,\n",
       " -0.013785791841694301,\n",
       " -0.013791648475222896,\n",
       " -0.013797425562943671,\n",
       " -0.013803168591572624,\n",
       " -0.013808870283301012,\n",
       " -0.013814477751841078,\n",
       " -0.013820061455201028,\n",
       " -0.013825615705073195,\n",
       " -0.013831148771470406,\n",
       " -0.013836621762625215,\n",
       " -0.013842011545208865,\n",
       " -0.013847308682587142,\n",
       " -0.013852570084163874,\n",
       " -0.013857803323928122,\n",
       " -0.013862955453065175,\n",
       " -0.013868124235763672,\n",
       " -0.013873232495658389,\n",
       " -0.013878289149422528,\n",
       " -0.013883277383886356,\n",
       " -0.013888201445946635,\n",
       " -0.013893075938938784,\n",
       " -0.013897900328092778,\n",
       " -0.013902678972195716,\n",
       " -0.013907423866550724,\n",
       " -0.013912108114693485,\n",
       " -0.013916755297514133,\n",
       " -0.013921325815703338,\n",
       " -0.013925880279273531,\n",
       " -0.013930395342633392,\n",
       " -0.013934872633129253,\n",
       " -0.01393927913159132,\n",
       " -0.013943635651269144,\n",
       " -0.013947953628014128,\n",
       " -0.013952217142133851,\n",
       " -0.013956428888869265,\n",
       " -0.013960623016166287,\n",
       " -0.013964770565816454,\n",
       " -0.01396886521766074,\n",
       " -0.013972918396032425,\n",
       " -0.013976927331645477,\n",
       " -0.013980905721194436,\n",
       " -0.013984836080167509,\n",
       " -0.013988715106154077,\n",
       " -0.013992558271285186,\n",
       " -0.013996366009958641,\n",
       " -0.014000148951757186,\n",
       " -0.014003869619997146,\n",
       " -0.014007560263779474,\n",
       " -0.014011213481886964,\n",
       " -0.014014824071418587,\n",
       " -0.014018416432696707,\n",
       " -0.01402195224492373,\n",
       " -0.014025451650007138,\n",
       " -0.014028903198931958,\n",
       " -0.014032328137700107,\n",
       " -0.014035732712425529,\n",
       " -0.014039110068179166,\n",
       " -0.014042454952696608,\n",
       " -0.014045744058231793,\n",
       " -0.01404899702976744,\n",
       " -0.014052224595613066,\n",
       " -0.014055414872355891,\n",
       " -0.014058573472613054,\n",
       " -0.014061689083941623,\n",
       " -0.014064759955586793,\n",
       " -0.014067826432245044,\n",
       " -0.014070885433641002,\n",
       " -0.014073920916673784,\n",
       " -0.014076906555848914,\n",
       " -0.014079830890633298,\n",
       " -0.014082743852093236,\n",
       " -0.014085613762097625,\n",
       " -0.014088457695442144,\n",
       " -0.014091281202216978,\n",
       " -0.014094061856635257,\n",
       " -0.01409684293393322,\n",
       " -0.0140995788486681,\n",
       " -0.01410229930443551,\n",
       " -0.014105007852108446,\n",
       " -0.01410766417167212,\n",
       " -0.014110303827801674,\n",
       " -0.014112911769600302,\n",
       " -0.014115502253214273,\n",
       " -0.014118060451527472,\n",
       " -0.014120582887711983,\n",
       " -0.014123084574819348,\n",
       " -0.01412553595898956,\n",
       " -0.014128004144811378,\n",
       " -0.014130441733560272,\n",
       " -0.01413287113950499,\n",
       " -0.014135266099678016,\n",
       " -0.014137626141836281,\n",
       " -0.014139953414932578,\n",
       " -0.014142254487588317,\n",
       " -0.014144512595997156,\n",
       " -0.014146758088769635,\n",
       " -0.01414901618566035,\n",
       " -0.014151280192993975,\n",
       " -0.014153510126426763,\n",
       " -0.0141557199689609,\n",
       " -0.014157871287908444,\n",
       " -0.014159983318535999,\n",
       " -0.014162081343125117,\n",
       " -0.014164159673368131,\n",
       " -0.0141662417914284,\n",
       " -0.014168306077787712,\n",
       " -0.014170350893581608,\n",
       " -0.014172373668623055,\n",
       " -0.014174353727879983,\n",
       " -0.014176340642065969,\n",
       " -0.014178292662918883,\n",
       " -0.014180225251051646,\n",
       " -0.014182144664096327,\n",
       " -0.014184035268668151,\n",
       " -0.014185919006792795,\n",
       " -0.014187776320696193,\n",
       " -0.014189627090659875,\n",
       " -0.014191454230370033,\n",
       " -0.014193255765291174,\n",
       " -0.014195041530255505,\n",
       " -0.014196806434252342,\n",
       " -0.014198560025806247,\n",
       " -0.014200267946354176,\n",
       " -0.014201981703299936,\n",
       " -0.014203702116075759,\n",
       " -0.01420540653511408,\n",
       " -0.014207079152612824,\n",
       " -0.014208726339739856,\n",
       " -0.014210357459084305,\n",
       " -0.014211962203570894,\n",
       " -0.01421356355843822,\n",
       " -0.014215143965129401,\n",
       " -0.014216688659055284,\n",
       " -0.01421824363537475,\n",
       " -0.014219803317670476,\n",
       " -0.014221323176876185,\n",
       " -0.014222837100957286,\n",
       " -0.014224325805283794,\n",
       " -0.014225805581418975,\n",
       " -0.01422724652831367,\n",
       " -0.014228688990664356,\n",
       " -0.014230128932191395,\n",
       " -0.014231567557361437,\n",
       " -0.01423294782019862,\n",
       " -0.014234342339182068,\n",
       " -0.014235721050363442,\n",
       " -0.014237082290196587,\n",
       " -0.014238434006186866,\n",
       " -0.014239726974809864,\n",
       " -0.014241044853843565,\n",
       " -0.014242357989055739,\n",
       " -0.014243658470786291,\n",
       " -0.014244922941925774,\n",
       " -0.014246194429248045,\n",
       " -0.014247448060187665,\n",
       " -0.01424868901296397,\n",
       " -0.014249912333138314,\n",
       " -0.014251124452760068,\n",
       " -0.014252282730089797,\n",
       " -0.01425346430364746,\n",
       " -0.014254649515286773,\n",
       " -0.014255839184439961,\n",
       " -0.014257001298950333,\n",
       " -0.014258128309510516,\n",
       " -0.014259240295501038,\n",
       " -0.014260332947498181,\n",
       " -0.014261422619592175,\n",
       " -0.014262530148068818,\n",
       " -0.014263581226221138,\n",
       " -0.014264641543554122,\n",
       " -0.0142657056108591,\n",
       " -0.014266751685209389,\n",
       " -0.014267787353757624,\n",
       " -0.014268802571054482,\n",
       " -0.014269794207461205,\n",
       " -0.014270794561442132,\n",
       " -0.014271745890997639,\n",
       " -0.014272685151204941,\n",
       " -0.014273657442100162,\n",
       " -0.014274646980562923,\n",
       " -0.014275627689561131,\n",
       " -0.014276561684340449,\n",
       " -0.014277463915425455,\n",
       " -0.014278342218431167,\n",
       " -0.01427923055536808,\n",
       " -0.014280104537431953,\n",
       " -0.01428096052654114,\n",
       " -0.014281836868174927,\n",
       " -0.014282732568483787,\n",
       " -0.014283574773689777,\n",
       " -0.01428441565102065,\n",
       " -0.014285214159756162,\n",
       " -0.01428598964705326,\n",
       " -0.014286794663528671,\n",
       " -0.014287633467597274,\n",
       " -0.014288468260067933,\n",
       " -0.014289277720893652,\n",
       " -0.014290035313962836,\n",
       " -0.014290766495974347,\n",
       " -0.014291496014439702,\n",
       " -0.014292230760487776,\n",
       " -0.014292974049692757,\n",
       " -0.014293711726280594,\n",
       " -0.014294434911423353,\n",
       " -0.014295140296128635,\n",
       " -0.014295833828684613,\n",
       " -0.014296512193517108,\n",
       " -0.014297200746952751,\n",
       " -0.01429783548277806,\n",
       " -0.014298459248413256,\n",
       " -0.01429914058821256,\n",
       " -0.014299827713400862,\n",
       " -0.014300510237921464,\n",
       " -0.014301150722935954,\n",
       " -0.014301748219021849,\n",
       " -0.014302333130734864,\n",
       " -0.014302932999554244,\n",
       " -0.014303497670633,\n",
       " -0.014304091461173953,\n",
       " -0.014304717698269409,\n",
       " -0.014305323470949916,\n",
       " -0.01430589361149199,\n",
       " -0.014306449305016034,\n",
       " -0.014306987334674639,\n",
       " -0.014307517020275336,\n",
       " -0.014308040596334125,\n",
       " -0.014308572008007933,\n",
       " -0.014309073480787315,\n",
       " -0.014309610045998762,\n",
       " -0.014310115573157691,\n",
       " -0.014310634058205799,\n",
       " -0.014311156541688283,\n",
       " -0.01431165645623007,\n",
       " -0.014312152652063344,\n",
       " -0.014312579011867093,\n",
       " -0.01431298824257543,\n",
       " -0.014313468247217655,\n",
       " -0.014313966144442348,\n",
       " -0.014314463705996006,\n",
       " -0.014314897677634083,\n",
       " -0.014315318984272412,\n",
       " -0.014315744022782826,\n",
       " -0.014316126108564463,\n",
       " -0.014316553401336233,\n",
       " -0.014316993415052921,\n",
       " -0.01431743421693836,\n",
       " -0.014317846346922982,\n",
       " -0.014318190534786706,\n",
       " -0.014318560347184803,\n",
       " -0.014318923199345282,\n",
       " -0.014319296625143332,\n",
       " -0.014319713753993647,\n",
       " -0.014320122928756812,\n",
       " -0.01432046005107436,\n",
       " -0.014320809132495217,\n",
       " -0.014321110723046553,\n",
       " -0.014321467863863117,\n",
       " -0.014321791477066994,\n",
       " -0.01432215351637703,\n",
       " -0.014322537428603998,\n",
       " -0.014322889949007506,\n",
       " -0.01432314974193333,\n",
       " -0.014323419340073326,\n",
       " -0.014323724731605487,\n",
       " -0.014324053914644903,\n",
       " -0.014324389386579869,\n",
       " -0.014324714421449301,\n",
       " -0.014324990655674004,\n",
       " -0.014325247513123725,\n",
       " -0.014325511908362695,\n",
       " -0.014325783393829535,\n",
       " -0.0143260114428064,\n",
       " -0.01432631358787312]"
      ]
     },
     "execution_count": 26,
     "metadata": {},
     "output_type": "execute_result"
    }
   ],
   "source": [
    "[l-v for l, v in zip(history.history['loss'], history.history['val_loss'])]"
   ]
  },
  {
   "cell_type": "code",
   "execution_count": 27,
   "metadata": {},
   "outputs": [
    {
     "data": {
      "text/plain": [
       "<matplotlib.legend.Legend at 0x7f6e207dde80>"
      ]
     },
     "execution_count": 27,
     "metadata": {},
     "output_type": "execute_result"
    },
    {
     "data": {
      "image/png": "[encoded data removed]",
      "text/plain": [
       "<matplotlib.figure.Figure at 0x7f6e284539e8>"
      ]
     },
     "metadata": {},
     "output_type": "display_data"
    }
   ],
   "source": [
    "yhat = model.predict(testX)\n",
    "plt.plot(yhat, label='predict')\n",
    "plt.plot(testY, label='true')\n",
    "plt.legend()"
   ]
  },
  {
   "cell_type": "code",
   "execution_count": 28,
   "metadata": {
    "scrolled": true
   },
   "outputs": [
    {
     "name": "stdout",
     "output_type": "stream",
     "text": [
      "Test RMSE: 0.693\n"
     ]
    }
   ],
   "source": [
    "from math import sqrt\n",
    "from sklearn.metrics import mean_squared_error\n",
    "yhat_inverse = scaler.inverse_transform(yhat.reshape(-1, 1))\n",
    "testY_inverse = scaler.inverse_transform(testY.reshape(-1, 1))\n",
    "rmse = sqrt(mean_squared_error(testY_inverse, yhat_inverse))\n",
    "print('Test RMSE: %.3f' % rmse)"
   ]
  },
  {
   "cell_type": "code",
   "execution_count": 29,
   "metadata": {},
   "outputs": [
    {
     "data": {
      "text/plain": [
       "<matplotlib.legend.Legend at 0x7f6e20750898>"
      ]
     },
     "execution_count": 29,
     "metadata": {},
     "output_type": "execute_result"
    },
    {
     "data": {
      "image/png": "[encoded data removed]",
      "text/plain": [
       "<matplotlib.figure.Figure at 0x7f6e207c9630>"
      ]
     },
     "metadata": {},
     "output_type": "display_data"
    }
   ],
   "source": [
    "plt.plot(yhat_inverse, label='predict')\n",
    "plt.plot(testY_inverse, label='actual', alpha=0.5)\n",
    "plt.legend()"
   ]
  }
 ],
 "metadata": {
  "kernelspec": {
   "display_name": "Python 3",
   "language": "python",
   "name": "python3"
  },
  "language_info": {
   "codemirror_mode": {
    "name": "ipython",
    "version": 3
   },
   "file_extension": ".py",
   "mimetype": "text/x-python",
   "name": "python",
   "nbconvert_exporter": "python",
   "pygments_lexer": "ipython3",
   "version": "3.6.4"
  }
 },
 "nbformat": 4,
 "nbformat_minor": 2
}
